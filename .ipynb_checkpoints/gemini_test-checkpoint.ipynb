{
 "cells": [
  {
   "cell_type": "code",
   "execution_count": 4,
   "id": "f5564ea6-594d-4b0c-90ea-b68b4db2f8ce",
   "metadata": {},
   "outputs": [
    {
     "name": "stdout",
     "output_type": "stream",
     "text": [
      "Requirement already satisfied: google-generativeai in c:\\users\\abdulraji\\anaconda3\\lib\\site-packages (0.8.5)\n",
      "Requirement already satisfied: google-ai-generativelanguage==0.6.15 in c:\\users\\abdulraji\\anaconda3\\lib\\site-packages (from google-generativeai) (0.6.15)\n",
      "Requirement already satisfied: google-api-core in c:\\users\\abdulraji\\anaconda3\\lib\\site-packages (from google-generativeai) (2.25.1)\n",
      "Requirement already satisfied: google-api-python-client in c:\\users\\abdulraji\\anaconda3\\lib\\site-packages (from google-generativeai) (2.176.0)\n",
      "Requirement already satisfied: google-auth>=2.15.0 in c:\\users\\abdulraji\\anaconda3\\lib\\site-packages (from google-generativeai) (2.40.3)\n",
      "Requirement already satisfied: protobuf in c:\\users\\abdulraji\\anaconda3\\lib\\site-packages (from google-generativeai) (5.29.3)\n",
      "Requirement already satisfied: pydantic in c:\\users\\abdulraji\\anaconda3\\lib\\site-packages (from google-generativeai) (2.10.3)\n",
      "Requirement already satisfied: tqdm in c:\\users\\abdulraji\\anaconda3\\lib\\site-packages (from google-generativeai) (4.67.1)\n",
      "Requirement already satisfied: typing-extensions in c:\\users\\abdulraji\\anaconda3\\lib\\site-packages (from google-generativeai) (4.12.2)\n",
      "Requirement already satisfied: proto-plus<2.0.0dev,>=1.22.3 in c:\\users\\abdulraji\\anaconda3\\lib\\site-packages (from google-ai-generativelanguage==0.6.15->google-generativeai) (1.26.1)\n",
      "Requirement already satisfied: googleapis-common-protos<2.0.0,>=1.56.2 in c:\\users\\abdulraji\\anaconda3\\lib\\site-packages (from google-api-core->google-generativeai) (1.70.0)\n",
      "Requirement already satisfied: requests<3.0.0,>=2.18.0 in c:\\users\\abdulraji\\anaconda3\\lib\\site-packages (from google-api-core->google-generativeai) (2.32.3)\n",
      "Requirement already satisfied: grpcio<2.0.0,>=1.33.2 in c:\\users\\abdulraji\\anaconda3\\lib\\site-packages (from google-api-core[grpc]!=2.0.*,!=2.1.*,!=2.10.*,!=2.2.*,!=2.3.*,!=2.4.*,!=2.5.*,!=2.6.*,!=2.7.*,!=2.8.*,!=2.9.*,<3.0.0dev,>=1.34.1->google-ai-generativelanguage==0.6.15->google-generativeai) (1.73.1)\n",
      "Requirement already satisfied: grpcio-status<2.0.0,>=1.33.2 in c:\\users\\abdulraji\\anaconda3\\lib\\site-packages (from google-api-core[grpc]!=2.0.*,!=2.1.*,!=2.10.*,!=2.2.*,!=2.3.*,!=2.4.*,!=2.5.*,!=2.6.*,!=2.7.*,!=2.8.*,!=2.9.*,<3.0.0dev,>=1.34.1->google-ai-generativelanguage==0.6.15->google-generativeai) (1.71.2)\n",
      "Requirement already satisfied: cachetools<6.0,>=2.0.0 in c:\\users\\abdulraji\\anaconda3\\lib\\site-packages (from google-auth>=2.15.0->google-generativeai) (5.5.1)\n",
      "Requirement already satisfied: pyasn1-modules>=0.2.1 in c:\\users\\abdulraji\\anaconda3\\lib\\site-packages (from google-auth>=2.15.0->google-generativeai) (0.2.8)\n",
      "Requirement already satisfied: rsa<5,>=3.1.4 in c:\\users\\abdulraji\\anaconda3\\lib\\site-packages (from google-auth>=2.15.0->google-generativeai) (4.9.1)\n",
      "Requirement already satisfied: charset-normalizer<4,>=2 in c:\\users\\abdulraji\\anaconda3\\lib\\site-packages (from requests<3.0.0,>=2.18.0->google-api-core->google-generativeai) (3.3.2)\n",
      "Requirement already satisfied: idna<4,>=2.5 in c:\\users\\abdulraji\\anaconda3\\lib\\site-packages (from requests<3.0.0,>=2.18.0->google-api-core->google-generativeai) (3.7)\n",
      "Requirement already satisfied: urllib3<3,>=1.21.1 in c:\\users\\abdulraji\\anaconda3\\lib\\site-packages (from requests<3.0.0,>=2.18.0->google-api-core->google-generativeai) (2.3.0)\n",
      "Requirement already satisfied: certifi>=2017.4.17 in c:\\users\\abdulraji\\anaconda3\\lib\\site-packages (from requests<3.0.0,>=2.18.0->google-api-core->google-generativeai) (2025.6.15)\n",
      "Requirement already satisfied: pyasn1>=0.1.3 in c:\\users\\abdulraji\\anaconda3\\lib\\site-packages (from rsa<5,>=3.1.4->google-auth>=2.15.0->google-generativeai) (0.4.8)\n",
      "Requirement already satisfied: httplib2<1.0.0,>=0.19.0 in c:\\users\\abdulraji\\anaconda3\\lib\\site-packages (from google-api-python-client->google-generativeai) (0.22.0)\n",
      "Requirement already satisfied: google-auth-httplib2<1.0.0,>=0.2.0 in c:\\users\\abdulraji\\anaconda3\\lib\\site-packages (from google-api-python-client->google-generativeai) (0.2.0)\n",
      "Requirement already satisfied: uritemplate<5,>=3.0.1 in c:\\users\\abdulraji\\anaconda3\\lib\\site-packages (from google-api-python-client->google-generativeai) (4.2.0)\n",
      "Requirement already satisfied: pyparsing!=3.0.0,!=3.0.1,!=3.0.2,!=3.0.3,<4,>=2.4.2 in c:\\users\\abdulraji\\anaconda3\\lib\\site-packages (from httplib2<1.0.0,>=0.19.0->google-api-python-client->google-generativeai) (3.2.0)\n",
      "Requirement already satisfied: annotated-types>=0.6.0 in c:\\users\\abdulraji\\anaconda3\\lib\\site-packages (from pydantic->google-generativeai) (0.6.0)\n",
      "Requirement already satisfied: pydantic-core==2.27.1 in c:\\users\\abdulraji\\anaconda3\\lib\\site-packages (from pydantic->google-generativeai) (2.27.1)\n",
      "Requirement already satisfied: colorama in c:\\users\\abdulraji\\anaconda3\\lib\\site-packages (from tqdm->google-generativeai) (0.4.6)\n"
     ]
    }
   ],
   "source": [
    "!pip install google-generativeai"
   ]
  },
  {
   "cell_type": "code",
   "execution_count": 5,
   "id": "7298d40e-3cff-43b4-ad14-983933f8a160",
   "metadata": {},
   "outputs": [
    {
     "name": "stdout",
     "output_type": "stream",
     "text": [
      "Requirement already satisfied: python-dotenv in c:\\users\\abdulraji\\anaconda3\\lib\\site-packages (1.1.0)\n"
     ]
    }
   ],
   "source": [
    "!pip install python-dotenv"
   ]
  },
  {
   "cell_type": "code",
   "execution_count": null,
   "id": "1734f4c4-1ef4-4fde-a659-04bbceb53281",
   "metadata": {},
   "outputs": [],
   "source": []
  },
  {
   "cell_type": "code",
   "execution_count": 9,
   "id": "b9924c60-394d-46fd-8eb9-df34206107c2",
   "metadata": {},
   "outputs": [],
   "source": [
    "import os\n",
    "from dotenv import load_dotenv\n",
    "import google.generativeai as genai"
   ]
  },
  {
   "cell_type": "code",
   "execution_count": null,
   "id": "6ef45b0f-b909-4a95-81c5-a2ee542c5233",
   "metadata": {},
   "outputs": [],
   "source": []
  },
  {
   "cell_type": "code",
   "execution_count": 11,
   "id": "3d2e7f4b-2036-41dd-9a49-5536a638e870",
   "metadata": {},
   "outputs": [],
   "source": [
    "#Get the API key from our environment variable\n",
    "load_dotenv()\n",
    "GOOGLE_API_KEY = os.getenv(\"GOOGLE_API_KEY\")"
   ]
  },
  {
   "cell_type": "code",
   "execution_count": null,
   "id": "aeaf7357-2846-4bcf-afa8-491a56823edd",
   "metadata": {},
   "outputs": [],
   "source": []
  },
  {
   "cell_type": "code",
   "execution_count": 12,
   "id": "7e97614f-e2c6-459a-a732-688bfcc9bd3e",
   "metadata": {},
   "outputs": [],
   "source": [
    "# Configure the model\n",
    "genai.configure()"
   ]
  },
  {
   "cell_type": "code",
   "execution_count": 13,
   "id": "164d8b9e-2a99-45f4-aa77-9609bd366591",
   "metadata": {},
   "outputs": [],
   "source": [
    "# load the model\n",
    "model = genai.GenerativeModel('gemini-1.5-flash')"
   ]
  },
  {
   "cell_type": "code",
   "execution_count": null,
   "id": "2722edbd-3559-44a5-97e9-d930825ed3de",
   "metadata": {},
   "outputs": [],
   "source": []
  },
  {
   "cell_type": "code",
   "execution_count": 14,
   "id": "01d24883-e1b6-4204-b0f4-0f91e0e2b3bc",
   "metadata": {},
   "outputs": [],
   "source": [
    "prompt = \"Explain generative AI in simple terms for beginners\""
   ]
  },
  {
   "cell_type": "code",
   "execution_count": 16,
   "id": "d744b676-cb99-43c4-95ec-187c9ec1b50b",
   "metadata": {},
   "outputs": [],
   "source": [
    "# Genrating the content\n",
    "response = model.generate_content(prompt)"
   ]
  },
  {
   "cell_type": "code",
   "execution_count": 18,
   "id": "0dddac65-b170-4b81-b1b1-68928d6adc2e",
   "metadata": {},
   "outputs": [
    {
     "name": "stdout",
     "output_type": "stream",
     "text": [
      "Imagine you have a really clever parrot that can mimic anything it hears.  It doesn't just repeat, though. It learns the patterns in the things it hears (like sentences, melodies, or even images) and then uses that knowledge to create something *new* that sounds or looks similar.\n",
      "\n",
      "That's basically generative AI.  It's a type of artificial intelligence that can create new content, instead of just analyzing existing content.  It learns from a huge amount of data (like all the books ever written, or all the pictures on the internet) and then uses that knowledge to generate things like:\n",
      "\n",
      "* **Text:**  Writing stories, poems, articles, even code.\n",
      "* **Images:** Creating realistic photos, artwork, or even design concepts.\n",
      "* **Music:** Composing melodies, soundtracks, or entire songs.\n",
      "* **Videos:**  Generating short clips or even longer sequences.\n",
      "\n",
      "\n",
      "Think of it as a super-powered creative tool that can help people be more productive or explore new ideas.  But it's important to remember that it's still learning and sometimes makes mistakes or produces outputs that are not entirely accurate or appropriate.\n",
      "\n"
     ]
    }
   ],
   "source": [
    "print(response.text)"
   ]
  },
  {
   "cell_type": "code",
   "execution_count": null,
   "id": "b9b036fc-900a-49d6-966c-537782c1dcff",
   "metadata": {},
   "outputs": [],
   "source": []
  },
  {
   "cell_type": "code",
   "execution_count": null,
   "id": "bb4e5218-30ec-4bdd-ae8b-1bef60cb8849",
   "metadata": {},
   "outputs": [],
   "source": []
  },
  {
   "cell_type": "code",
   "execution_count": 19,
   "id": "04b63f9d-ae10-457f-8f55-2d3337f3b9f5",
   "metadata": {},
   "outputs": [
    {
     "name": "stdout",
     "output_type": "stream",
     "text": [
      "Requirement already satisfied: streamlit in c:\\users\\abdulraji\\anaconda3\\lib\\site-packages (1.45.1)\n",
      "Requirement already satisfied: altair<6,>=4.0 in c:\\users\\abdulraji\\anaconda3\\lib\\site-packages (from streamlit) (5.5.0)\n",
      "Requirement already satisfied: blinker<2,>=1.5.0 in c:\\users\\abdulraji\\anaconda3\\lib\\site-packages (from streamlit) (1.9.0)\n",
      "Requirement already satisfied: cachetools<6,>=4.0 in c:\\users\\abdulraji\\anaconda3\\lib\\site-packages (from streamlit) (5.5.1)\n",
      "Requirement already satisfied: click<9,>=7.0 in c:\\users\\abdulraji\\anaconda3\\lib\\site-packages (from streamlit) (8.1.8)\n",
      "Requirement already satisfied: numpy<3,>=1.23 in c:\\users\\abdulraji\\anaconda3\\lib\\site-packages (from streamlit) (2.1.3)\n",
      "Requirement already satisfied: packaging<25,>=20 in c:\\users\\abdulraji\\anaconda3\\lib\\site-packages (from streamlit) (24.2)\n",
      "Requirement already satisfied: pandas<3,>=1.4.0 in c:\\users\\abdulraji\\anaconda3\\lib\\site-packages (from streamlit) (2.2.3)\n",
      "Requirement already satisfied: pillow<12,>=7.1.0 in c:\\users\\abdulraji\\anaconda3\\lib\\site-packages (from streamlit) (11.1.0)\n",
      "Requirement already satisfied: protobuf<7,>=3.20 in c:\\users\\abdulraji\\anaconda3\\lib\\site-packages (from streamlit) (5.29.3)\n",
      "Requirement already satisfied: pyarrow>=7.0 in c:\\users\\abdulraji\\anaconda3\\lib\\site-packages (from streamlit) (19.0.0)\n",
      "Requirement already satisfied: requests<3,>=2.27 in c:\\users\\abdulraji\\anaconda3\\lib\\site-packages (from streamlit) (2.32.3)\n",
      "Requirement already satisfied: tenacity<10,>=8.1.0 in c:\\users\\abdulraji\\anaconda3\\lib\\site-packages (from streamlit) (9.0.0)\n",
      "Requirement already satisfied: toml<2,>=0.10.1 in c:\\users\\abdulraji\\anaconda3\\lib\\site-packages (from streamlit) (0.10.2)\n",
      "Requirement already satisfied: typing-extensions<5,>=4.4.0 in c:\\users\\abdulraji\\anaconda3\\lib\\site-packages (from streamlit) (4.12.2)\n",
      "Requirement already satisfied: watchdog<7,>=2.1.5 in c:\\users\\abdulraji\\anaconda3\\lib\\site-packages (from streamlit) (4.0.2)\n",
      "Requirement already satisfied: gitpython!=3.1.19,<4,>=3.0.7 in c:\\users\\abdulraji\\anaconda3\\lib\\site-packages (from streamlit) (3.1.43)\n",
      "Requirement already satisfied: tornado<7,>=6.0.3 in c:\\users\\abdulraji\\anaconda3\\lib\\site-packages (from streamlit) (6.5.1)\n",
      "Requirement already satisfied: jinja2 in c:\\users\\abdulraji\\anaconda3\\lib\\site-packages (from altair<6,>=4.0->streamlit) (3.1.6)\n",
      "Requirement already satisfied: jsonschema>=3.0 in c:\\users\\abdulraji\\anaconda3\\lib\\site-packages (from altair<6,>=4.0->streamlit) (4.23.0)\n",
      "Requirement already satisfied: narwhals>=1.14.2 in c:\\users\\abdulraji\\anaconda3\\lib\\site-packages (from altair<6,>=4.0->streamlit) (1.31.0)\n",
      "Requirement already satisfied: colorama in c:\\users\\abdulraji\\anaconda3\\lib\\site-packages (from click<9,>=7.0->streamlit) (0.4.6)\n",
      "Requirement already satisfied: gitdb<5,>=4.0.1 in c:\\users\\abdulraji\\anaconda3\\lib\\site-packages (from gitpython!=3.1.19,<4,>=3.0.7->streamlit) (4.0.7)\n",
      "Requirement already satisfied: smmap<5,>=3.0.1 in c:\\users\\abdulraji\\anaconda3\\lib\\site-packages (from gitdb<5,>=4.0.1->gitpython!=3.1.19,<4,>=3.0.7->streamlit) (4.0.0)\n",
      "Requirement already satisfied: python-dateutil>=2.8.2 in c:\\users\\abdulraji\\anaconda3\\lib\\site-packages (from pandas<3,>=1.4.0->streamlit) (2.9.0.post0)\n",
      "Requirement already satisfied: pytz>=2020.1 in c:\\users\\abdulraji\\anaconda3\\lib\\site-packages (from pandas<3,>=1.4.0->streamlit) (2024.1)\n",
      "Requirement already satisfied: tzdata>=2022.7 in c:\\users\\abdulraji\\anaconda3\\lib\\site-packages (from pandas<3,>=1.4.0->streamlit) (2025.2)\n",
      "Requirement already satisfied: charset-normalizer<4,>=2 in c:\\users\\abdulraji\\anaconda3\\lib\\site-packages (from requests<3,>=2.27->streamlit) (3.3.2)\n",
      "Requirement already satisfied: idna<4,>=2.5 in c:\\users\\abdulraji\\anaconda3\\lib\\site-packages (from requests<3,>=2.27->streamlit) (3.7)\n",
      "Requirement already satisfied: urllib3<3,>=1.21.1 in c:\\users\\abdulraji\\anaconda3\\lib\\site-packages (from requests<3,>=2.27->streamlit) (2.3.0)\n",
      "Requirement already satisfied: certifi>=2017.4.17 in c:\\users\\abdulraji\\anaconda3\\lib\\site-packages (from requests<3,>=2.27->streamlit) (2025.6.15)\n",
      "Requirement already satisfied: attrs>=22.2.0 in c:\\users\\abdulraji\\anaconda3\\lib\\site-packages (from jsonschema>=3.0->altair<6,>=4.0->streamlit) (24.3.0)\n",
      "Requirement already satisfied: jsonschema-specifications>=2023.03.6 in c:\\users\\abdulraji\\anaconda3\\lib\\site-packages (from jsonschema>=3.0->altair<6,>=4.0->streamlit) (2023.7.1)\n",
      "Requirement already satisfied: referencing>=0.28.4 in c:\\users\\abdulraji\\anaconda3\\lib\\site-packages (from jsonschema>=3.0->altair<6,>=4.0->streamlit) (0.30.2)\n",
      "Requirement already satisfied: rpds-py>=0.7.1 in c:\\users\\abdulraji\\anaconda3\\lib\\site-packages (from jsonschema>=3.0->altair<6,>=4.0->streamlit) (0.22.3)\n",
      "Requirement already satisfied: six>=1.5 in c:\\users\\abdulraji\\anaconda3\\lib\\site-packages (from python-dateutil>=2.8.2->pandas<3,>=1.4.0->streamlit) (1.17.0)\n",
      "Requirement already satisfied: MarkupSafe>=2.0 in c:\\users\\abdulraji\\anaconda3\\lib\\site-packages (from jinja2->altair<6,>=4.0->streamlit) (3.0.2)\n"
     ]
    }
   ],
   "source": [
    "!pip install streamlit"
   ]
  },
  {
   "cell_type": "code",
   "execution_count": null,
   "id": "3e3e28e9-6432-405b-80b2-0f6a200b3fe2",
   "metadata": {},
   "outputs": [],
   "source": []
  },
  {
   "cell_type": "code",
   "execution_count": 1,
   "id": "ee993d1a-2572-426d-8c88-57a05ad3ecae",
   "metadata": {},
   "outputs": [
    {
     "name": "stdout",
     "output_type": "stream",
     "text": [
      "Collecting pdfplumber\n",
      "  Downloading pdfplumber-0.11.7-py3-none-any.whl.metadata (42 kB)\n",
      "Collecting pdfminer.six==20250506 (from pdfplumber)\n",
      "  Downloading pdfminer_six-20250506-py3-none-any.whl.metadata (4.2 kB)\n",
      "Requirement already satisfied: Pillow>=9.1 in c:\\users\\abdulraji\\anaconda3\\lib\\site-packages (from pdfplumber) (11.1.0)\n",
      "Collecting pypdfium2>=4.18.0 (from pdfplumber)\n",
      "  Downloading pypdfium2-4.30.1-py3-none-win_amd64.whl.metadata (48 kB)\n",
      "Requirement already satisfied: charset-normalizer>=2.0.0 in c:\\users\\abdulraji\\anaconda3\\lib\\site-packages (from pdfminer.six==20250506->pdfplumber) (3.3.2)\n",
      "Requirement already satisfied: cryptography>=36.0.0 in c:\\users\\abdulraji\\anaconda3\\lib\\site-packages (from pdfminer.six==20250506->pdfplumber) (44.0.1)\n",
      "Requirement already satisfied: cffi>=1.12 in c:\\users\\abdulraji\\anaconda3\\lib\\site-packages (from cryptography>=36.0.0->pdfminer.six==20250506->pdfplumber) (1.17.1)\n",
      "Requirement already satisfied: pycparser in c:\\users\\abdulraji\\anaconda3\\lib\\site-packages (from cffi>=1.12->cryptography>=36.0.0->pdfminer.six==20250506->pdfplumber) (2.21)\n",
      "Downloading pdfplumber-0.11.7-py3-none-any.whl (60 kB)\n",
      "Downloading pdfminer_six-20250506-py3-none-any.whl (5.6 MB)\n",
      "   ---------------------------------------- 0.0/5.6 MB ? eta -:--:--\n",
      "   ---------------------------------------- 0.0/5.6 MB ? eta -:--:--\n",
      "   ---------------------------------------- 0.0/5.6 MB ? eta -:--:--\n",
      "   ---------------------------------------- 0.0/5.6 MB ? eta -:--:--\n",
      "   - -------------------------------------- 0.3/5.6 MB ? eta -:--:--\n",
      "   - -------------------------------------- 0.3/5.6 MB ? eta -:--:--\n",
      "   --- ------------------------------------ 0.5/5.6 MB 496.7 kB/s eta 0:00:11\n",
      "   --- ------------------------------------ 0.5/5.6 MB 496.7 kB/s eta 0:00:11\n",
      "   --- ------------------------------------ 0.5/5.6 MB 496.7 kB/s eta 0:00:11\n",
      "   ----- ---------------------------------- 0.8/5.6 MB 483.6 kB/s eta 0:00:10\n",
      "   ----- ---------------------------------- 0.8/5.6 MB 483.6 kB/s eta 0:00:10\n",
      "   ----- ---------------------------------- 0.8/5.6 MB 483.6 kB/s eta 0:00:10\n",
      "   ------- -------------------------------- 1.0/5.6 MB 484.5 kB/s eta 0:00:10\n",
      "   ------- -------------------------------- 1.0/5.6 MB 484.5 kB/s eta 0:00:10\n",
      "   --------- ------------------------------ 1.3/5.6 MB 500.9 kB/s eta 0:00:09\n",
      "   --------- ------------------------------ 1.3/5.6 MB 500.9 kB/s eta 0:00:09\n",
      "   ----------- ---------------------------- 1.6/5.6 MB 504.5 kB/s eta 0:00:09\n",
      "   ----------- ---------------------------- 1.6/5.6 MB 504.5 kB/s eta 0:00:09\n",
      "   ----------- ---------------------------- 1.6/5.6 MB 504.5 kB/s eta 0:00:09\n",
      "   ------------- -------------------------- 1.8/5.6 MB 484.1 kB/s eta 0:00:08\n",
      "   ------------- -------------------------- 1.8/5.6 MB 484.1 kB/s eta 0:00:08\n",
      "   ------------- -------------------------- 1.8/5.6 MB 484.1 kB/s eta 0:00:08\n",
      "   -------------- ------------------------- 2.1/5.6 MB 476.0 kB/s eta 0:00:08\n",
      "   -------------- ------------------------- 2.1/5.6 MB 476.0 kB/s eta 0:00:08\n",
      "   -------------- ------------------------- 2.1/5.6 MB 476.0 kB/s eta 0:00:08\n",
      "   -------------- ------------------------- 2.1/5.6 MB 476.0 kB/s eta 0:00:08\n",
      "   ---------------- ----------------------- 2.4/5.6 MB 456.5 kB/s eta 0:00:08\n",
      "   ---------------- ----------------------- 2.4/5.6 MB 456.5 kB/s eta 0:00:08\n",
      "   ---------------- ----------------------- 2.4/5.6 MB 456.5 kB/s eta 0:00:08\n",
      "   ---------------- ----------------------- 2.4/5.6 MB 456.5 kB/s eta 0:00:08\n",
      "   ------------------ --------------------- 2.6/5.6 MB 427.3 kB/s eta 0:00:08\n",
      "   ------------------ --------------------- 2.6/5.6 MB 427.3 kB/s eta 0:00:08\n",
      "   ------------------ --------------------- 2.6/5.6 MB 427.3 kB/s eta 0:00:08\n",
      "   ------------------ --------------------- 2.6/5.6 MB 427.3 kB/s eta 0:00:08\n",
      "   ------------------ --------------------- 2.6/5.6 MB 427.3 kB/s eta 0:00:08\n",
      "   -------------------- ------------------- 2.9/5.6 MB 409.7 kB/s eta 0:00:07\n",
      "   -------------------- ------------------- 2.9/5.6 MB 409.7 kB/s eta 0:00:07\n",
      "   -------------------- ------------------- 2.9/5.6 MB 409.7 kB/s eta 0:00:07\n",
      "   -------------------- ------------------- 2.9/5.6 MB 409.7 kB/s eta 0:00:07\n",
      "   ---------------------- ----------------- 3.1/5.6 MB 395.7 kB/s eta 0:00:07\n",
      "   ---------------------- ----------------- 3.1/5.6 MB 395.7 kB/s eta 0:00:07\n",
      "   ---------------------- ----------------- 3.1/5.6 MB 395.7 kB/s eta 0:00:07\n",
      "   ---------------------- ----------------- 3.1/5.6 MB 395.7 kB/s eta 0:00:07\n",
      "   ------------------------ --------------- 3.4/5.6 MB 389.1 kB/s eta 0:00:06\n",
      "   ------------------------ --------------- 3.4/5.6 MB 389.1 kB/s eta 0:00:06\n",
      "   ------------------------ --------------- 3.4/5.6 MB 389.1 kB/s eta 0:00:06\n",
      "   ------------------------ --------------- 3.4/5.6 MB 389.1 kB/s eta 0:00:06\n",
      "   -------------------------- ------------- 3.7/5.6 MB 378.2 kB/s eta 0:00:06\n",
      "   -------------------------- ------------- 3.7/5.6 MB 378.2 kB/s eta 0:00:06\n",
      "   -------------------------- ------------- 3.7/5.6 MB 378.2 kB/s eta 0:00:06\n",
      "   -------------------------- ------------- 3.7/5.6 MB 378.2 kB/s eta 0:00:06\n",
      "   --------------------------- ------------ 3.9/5.6 MB 370.2 kB/s eta 0:00:05\n",
      "   --------------------------- ------------ 3.9/5.6 MB 370.2 kB/s eta 0:00:05\n",
      "   --------------------------- ------------ 3.9/5.6 MB 370.2 kB/s eta 0:00:05\n",
      "   --------------------------- ------------ 3.9/5.6 MB 370.2 kB/s eta 0:00:05\n",
      "   ----------------------------- ---------- 4.2/5.6 MB 368.0 kB/s eta 0:00:04\n",
      "   ----------------------------- ---------- 4.2/5.6 MB 368.0 kB/s eta 0:00:04\n",
      "   ----------------------------- ---------- 4.2/5.6 MB 368.0 kB/s eta 0:00:04\n",
      "   ----------------------------- ---------- 4.2/5.6 MB 368.0 kB/s eta 0:00:04\n",
      "   ------------------------------- -------- 4.5/5.6 MB 366.5 kB/s eta 0:00:04\n",
      "   ------------------------------- -------- 4.5/5.6 MB 366.5 kB/s eta 0:00:04\n",
      "   ------------------------------- -------- 4.5/5.6 MB 366.5 kB/s eta 0:00:04\n",
      "   --------------------------------- ------ 4.7/5.6 MB 364.9 kB/s eta 0:00:03\n",
      "   --------------------------------- ------ 4.7/5.6 MB 364.9 kB/s eta 0:00:03\n",
      "   --------------------------------- ------ 4.7/5.6 MB 364.9 kB/s eta 0:00:03\n",
      "   --------------------------------- ------ 4.7/5.6 MB 364.9 kB/s eta 0:00:03\n",
      "   ----------------------------------- ---- 5.0/5.6 MB 362.7 kB/s eta 0:00:02\n",
      "   ----------------------------------- ---- 5.0/5.6 MB 362.7 kB/s eta 0:00:02\n",
      "   ----------------------------------- ---- 5.0/5.6 MB 362.7 kB/s eta 0:00:02\n",
      "   ----------------------------------- ---- 5.0/5.6 MB 362.7 kB/s eta 0:00:02\n",
      "   ----------------------------------- ---- 5.0/5.6 MB 362.7 kB/s eta 0:00:02\n",
      "   ------------------------------------- -- 5.2/5.6 MB 356.4 kB/s eta 0:00:02\n",
      "   ------------------------------------- -- 5.2/5.6 MB 356.4 kB/s eta 0:00:02\n",
      "   ------------------------------------- -- 5.2/5.6 MB 356.4 kB/s eta 0:00:02\n",
      "   ---------------------------------------  5.5/5.6 MB 356.2 kB/s eta 0:00:01\n",
      "   ---------------------------------------  5.5/5.6 MB 356.2 kB/s eta 0:00:01\n",
      "   ---------------------------------------- 5.6/5.6 MB 356.6 kB/s eta 0:00:00\n",
      "Downloading pypdfium2-4.30.1-py3-none-win_amd64.whl (3.0 MB)\n",
      "   ---------------------------------------- 0.0/3.0 MB ? eta -:--:--\n",
      "   ---------------------------------------- 0.0/3.0 MB ? eta -:--:--\n",
      "   ---------------------------------------- 0.0/3.0 MB ? eta -:--:--\n",
      "   ---------------------------------------- 0.0/3.0 MB ? eta -:--:--\n",
      "   --- ------------------------------------ 0.3/3.0 MB ? eta -:--:--\n",
      "   --- ------------------------------------ 0.3/3.0 MB ? eta -:--:--\n",
      "   --- ------------------------------------ 0.3/3.0 MB ? eta -:--:--\n",
      "   --- ------------------------------------ 0.3/3.0 MB ? eta -:--:--\n",
      "   --- ------------------------------------ 0.3/3.0 MB ? eta -:--:--\n",
      "   ------- -------------------------------- 0.5/3.0 MB 289.4 kB/s eta 0:00:09\n",
      "   ------- -------------------------------- 0.5/3.0 MB 289.4 kB/s eta 0:00:09\n",
      "   ------- -------------------------------- 0.5/3.0 MB 289.4 kB/s eta 0:00:09\n",
      "   ------- -------------------------------- 0.5/3.0 MB 289.4 kB/s eta 0:00:09\n",
      "   ---------- ----------------------------- 0.8/3.0 MB 300.4 kB/s eta 0:00:08\n",
      "   ---------- ----------------------------- 0.8/3.0 MB 300.4 kB/s eta 0:00:08\n",
      "   ---------- ----------------------------- 0.8/3.0 MB 300.4 kB/s eta 0:00:08\n",
      "   -------------- ------------------------- 1.0/3.0 MB 312.4 kB/s eta 0:00:07\n",
      "   -------------- ------------------------- 1.0/3.0 MB 312.4 kB/s eta 0:00:07\n",
      "   -------------- ------------------------- 1.0/3.0 MB 312.4 kB/s eta 0:00:07\n",
      "   -------------- ------------------------- 1.0/3.0 MB 312.4 kB/s eta 0:00:07\n",
      "   ----------------- ---------------------- 1.3/3.0 MB 322.1 kB/s eta 0:00:06\n",
      "   ----------------- ---------------------- 1.3/3.0 MB 322.1 kB/s eta 0:00:06\n",
      "   ----------------- ---------------------- 1.3/3.0 MB 322.1 kB/s eta 0:00:06\n",
      "   --------------------- ------------------ 1.6/3.0 MB 328.9 kB/s eta 0:00:05\n",
      "   --------------------- ------------------ 1.6/3.0 MB 328.9 kB/s eta 0:00:05\n",
      "   --------------------- ------------------ 1.6/3.0 MB 328.9 kB/s eta 0:00:05\n",
      "   --------------------- ------------------ 1.6/3.0 MB 328.9 kB/s eta 0:00:05\n",
      "   ------------------------ --------------- 1.8/3.0 MB 329.6 kB/s eta 0:00:04\n",
      "   ------------------------ --------------- 1.8/3.0 MB 329.6 kB/s eta 0:00:04\n",
      "   ------------------------ --------------- 1.8/3.0 MB 329.6 kB/s eta 0:00:04\n",
      "   ---------------------------- ----------- 2.1/3.0 MB 336.1 kB/s eta 0:00:03\n",
      "   ---------------------------- ----------- 2.1/3.0 MB 336.1 kB/s eta 0:00:03\n",
      "   ---------------------------- ----------- 2.1/3.0 MB 336.1 kB/s eta 0:00:03\n",
      "   ---------------------------- ----------- 2.1/3.0 MB 336.1 kB/s eta 0:00:03\n",
      "   ------------------------------- -------- 2.4/3.0 MB 340.4 kB/s eta 0:00:02\n",
      "   ------------------------------- -------- 2.4/3.0 MB 340.4 kB/s eta 0:00:02\n",
      "   ------------------------------- -------- 2.4/3.0 MB 340.4 kB/s eta 0:00:02\n",
      "   ----------------------------------- ---- 2.6/3.0 MB 344.9 kB/s eta 0:00:01\n",
      "   ----------------------------------- ---- 2.6/3.0 MB 344.9 kB/s eta 0:00:01\n",
      "   ----------------------------------- ---- 2.6/3.0 MB 344.9 kB/s eta 0:00:01\n",
      "   -------------------------------------- - 2.9/3.0 MB 348.6 kB/s eta 0:00:01\n",
      "   -------------------------------------- - 2.9/3.0 MB 348.6 kB/s eta 0:00:01\n",
      "   ---------------------------------------- 3.0/3.0 MB 346.2 kB/s eta 0:00:00\n",
      "Installing collected packages: pypdfium2, pdfminer.six, pdfplumber\n",
      "\n",
      "   ------------- -------------------------- 1/3 [pdfminer.six]\n",
      "   ------------- -------------------------- 1/3 [pdfminer.six]\n",
      "   -------------------------- ------------- 2/3 [pdfplumber]\n",
      "   ---------------------------------------- 3/3 [pdfplumber]\n",
      "\n",
      "Successfully installed pdfminer.six-20250506 pdfplumber-0.11.7 pypdfium2-4.30.1\n"
     ]
    }
   ],
   "source": [
    "!pip install pdfplumber"
   ]
  },
  {
   "cell_type": "code",
   "execution_count": null,
   "id": "07177fa8-fd8f-4645-8bee-1403a4e67117",
   "metadata": {},
   "outputs": [],
   "source": []
  }
 ],
 "metadata": {
  "kernelspec": {
   "display_name": "Python [conda env:base] *",
   "language": "python",
   "name": "conda-base-py"
  },
  "language_info": {
   "codemirror_mode": {
    "name": "ipython",
    "version": 3
   },
   "file_extension": ".py",
   "mimetype": "text/x-python",
   "name": "python",
   "nbconvert_exporter": "python",
   "pygments_lexer": "ipython3",
   "version": "3.13.5"
  }
 },
 "nbformat": 4,
 "nbformat_minor": 5
}
